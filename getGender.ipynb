{
  "nbformat": 4,
  "nbformat_minor": 0,
  "metadata": {
    "colab": {
      "name": "getGender",
      "provenance": [],
      "collapsed_sections": []
    },
    "kernelspec": {
      "name": "python3",
      "display_name": "Python 3"
    },
    "accelerator": "GPU"
  },
  "cells": [
    {
      "cell_type": "code",
      "metadata": {
        "id": "dCpaAuANABfU",
        "outputId": "4ec970b1-9468-40a2-b42e-3b6cd2750bea",
        "colab": {
          "base_uri": "https://localhost:8080/"
        }
      },
      "source": [
        "from google.colab import drive\n",
        "drive.mount('/content/drive')"
      ],
      "execution_count": 1,
      "outputs": [
        {
          "output_type": "stream",
          "text": [
            "Drive already mounted at /content/drive; to attempt to forcibly remount, call drive.mount(\"/content/drive\", force_remount=True).\n"
          ],
          "name": "stdout"
        }
      ]
    },
    {
      "cell_type": "code",
      "metadata": {
        "id": "T86dki7w5ImB"
      },
      "source": [
        "import numpy as np\n",
        "import pandas as pd\n",
        "from nltk.tokenize import wordpunct_tokenize\n",
        "import string"
      ],
      "execution_count": 2,
      "outputs": []
    },
    {
      "cell_type": "code",
      "metadata": {
        "id": "i36aEO_6YpK0"
      },
      "source": [
        "!cp ./drive/'My Drive'/gender/df_final.csv ."
      ],
      "execution_count": 3,
      "outputs": []
    },
    {
      "cell_type": "code",
      "metadata": {
        "id": "HO5BmUrAZK5k",
        "outputId": "acf7bc5c-f60c-4c87-a889-d5b346191941",
        "colab": {
          "base_uri": "https://localhost:8080/"
        }
      },
      "source": [
        "dataset = pd.read_csv('df_final.csv',index_col=0)"
      ],
      "execution_count": 4,
      "outputs": [
        {
          "output_type": "stream",
          "text": [
            "/usr/local/lib/python3.6/dist-packages/numpy/lib/arraysetops.py:569: FutureWarning: elementwise comparison failed; returning scalar instead, but in the future will perform elementwise comparison\n",
            "  mask |= (ar1 == a)\n"
          ],
          "name": "stderr"
        }
      ]
    },
    {
      "cell_type": "code",
      "metadata": {
        "id": "H_7ELql1ZFtw",
        "outputId": "ec0d2d84-af75-489c-a134-5541c20f4935",
        "colab": {
          "base_uri": "https://localhost:8080/",
          "height": 419
        }
      },
      "source": [
        "dataset"
      ],
      "execution_count": 5,
      "outputs": [
        {
          "output_type": "execute_result",
          "data": {
            "text/html": [
              "<div>\n",
              "<style scoped>\n",
              "    .dataframe tbody tr th:only-of-type {\n",
              "        vertical-align: middle;\n",
              "    }\n",
              "\n",
              "    .dataframe tbody tr th {\n",
              "        vertical-align: top;\n",
              "    }\n",
              "\n",
              "    .dataframe thead th {\n",
              "        text-align: right;\n",
              "    }\n",
              "</style>\n",
              "<table border=\"1\" class=\"dataframe\">\n",
              "  <thead>\n",
              "    <tr style=\"text-align: right;\">\n",
              "      <th></th>\n",
              "      <th>NOMBRE</th>\n",
              "      <th>SEXO</th>\n",
              "    </tr>\n",
              "  </thead>\n",
              "  <tbody>\n",
              "    <tr>\n",
              "      <th>0</th>\n",
              "      <td>AARON</td>\n",
              "      <td>M</td>\n",
              "    </tr>\n",
              "    <tr>\n",
              "      <th>1</th>\n",
              "      <td>AARONIT</td>\n",
              "      <td>M</td>\n",
              "    </tr>\n",
              "    <tr>\n",
              "      <th>2</th>\n",
              "      <td>ABA</td>\n",
              "      <td>F</td>\n",
              "    </tr>\n",
              "    <tr>\n",
              "      <th>3</th>\n",
              "      <td>ABACO</td>\n",
              "      <td>M</td>\n",
              "    </tr>\n",
              "    <tr>\n",
              "      <th>4</th>\n",
              "      <td>ABALEN</td>\n",
              "      <td>M</td>\n",
              "    </tr>\n",
              "    <tr>\n",
              "      <th>...</th>\n",
              "      <td>...</td>\n",
              "      <td>...</td>\n",
              "    </tr>\n",
              "    <tr>\n",
              "      <th>676595</th>\n",
              "      <td>Shelly</td>\n",
              "      <td>F</td>\n",
              "    </tr>\n",
              "    <tr>\n",
              "      <th>676596</th>\n",
              "      <td>Tory</td>\n",
              "      <td>F</td>\n",
              "    </tr>\n",
              "    <tr>\n",
              "      <th>676597</th>\n",
              "      <td>Batsheva</td>\n",
              "      <td>F</td>\n",
              "    </tr>\n",
              "    <tr>\n",
              "      <th>676598</th>\n",
              "      <td>Chelsie</td>\n",
              "      <td>F</td>\n",
              "    </tr>\n",
              "    <tr>\n",
              "      <th>676599</th>\n",
              "      <td>Teresina</td>\n",
              "      <td>F</td>\n",
              "    </tr>\n",
              "  </tbody>\n",
              "</table>\n",
              "<p>1828783 rows × 2 columns</p>\n",
              "</div>"
            ],
            "text/plain": [
              "          NOMBRE SEXO\n",
              "0          AARON    M\n",
              "1        AARONIT    M\n",
              "2            ABA    F\n",
              "3          ABACO    M\n",
              "4         ABALEN    M\n",
              "...          ...  ...\n",
              "676595    Shelly    F\n",
              "676596      Tory    F\n",
              "676597  Batsheva    F\n",
              "676598   Chelsie    F\n",
              "676599  Teresina    F\n",
              "\n",
              "[1828783 rows x 2 columns]"
            ]
          },
          "metadata": {
            "tags": []
          },
          "execution_count": 5
        }
      ]
    },
    {
      "cell_type": "code",
      "metadata": {
        "id": "0iBlHqyaafte"
      },
      "source": [
        "dataset = dataset.drop(dataset.index[dataset['SEXO']=='A'])"
      ],
      "execution_count": 6,
      "outputs": []
    },
    {
      "cell_type": "code",
      "metadata": {
        "id": "8BNyebmSl1Ia",
        "outputId": "06275cd1-752d-4915-a73f-6095eac77465",
        "colab": {
          "base_uri": "https://localhost:8080/"
        }
      },
      "source": [
        "len(dataset['NOMBRE'].unique())"
      ],
      "execution_count": 7,
      "outputs": [
        {
          "output_type": "execute_result",
          "data": {
            "text/plain": [
              "84337"
            ]
          },
          "metadata": {
            "tags": []
          },
          "execution_count": 7
        }
      ]
    },
    {
      "cell_type": "code",
      "metadata": {
        "id": "zAPLyZeUAe2U"
      },
      "source": [
        "dataset = dataset.drop_duplicates(subset='NOMBRE',ignore_index=True)"
      ],
      "execution_count": 8,
      "outputs": []
    },
    {
      "cell_type": "code",
      "metadata": {
        "id": "5dm4e1rqA5zA",
        "outputId": "d388cf03-0cc0-42c2-f479-e7ef2668d47c",
        "colab": {
          "base_uri": "https://localhost:8080/"
        }
      },
      "source": [
        "dataset.isnull().values.any()"
      ],
      "execution_count": 9,
      "outputs": [
        {
          "output_type": "execute_result",
          "data": {
            "text/plain": [
              "True"
            ]
          },
          "metadata": {
            "tags": []
          },
          "execution_count": 9
        }
      ]
    },
    {
      "cell_type": "code",
      "metadata": {
        "id": "N-ucWeXaaNwz"
      },
      "source": [
        "dataset=dataset.dropna()"
      ],
      "execution_count": 10,
      "outputs": []
    },
    {
      "cell_type": "code",
      "metadata": {
        "id": "9DSWvBZ7aWfZ",
        "outputId": "48b9f455-c5aa-4993-b529-585fc2f312c2",
        "colab": {
          "base_uri": "https://localhost:8080/"
        }
      },
      "source": [
        "dataset.isnull().values.any()"
      ],
      "execution_count": 11,
      "outputs": [
        {
          "output_type": "execute_result",
          "data": {
            "text/plain": [
              "False"
            ]
          },
          "metadata": {
            "tags": []
          },
          "execution_count": 11
        }
      ]
    },
    {
      "cell_type": "code",
      "metadata": {
        "id": "98qb3vMcACnM"
      },
      "source": [
        "dataset = dataset.drop(5784)"
      ],
      "execution_count": 12,
      "outputs": []
    },
    {
      "cell_type": "code",
      "metadata": {
        "id": "lFsVhKgeJNmX"
      },
      "source": [
        "dataset['NOMBRE'] = dataset['NOMBRE'].str.lower()"
      ],
      "execution_count": 13,
      "outputs": []
    },
    {
      "cell_type": "code",
      "metadata": {
        "id": "v2zCBh0d-uJn"
      },
      "source": [
        "rows_list = [wordpunct_tokenize(i) for i in dataset['NOMBRE']]"
      ],
      "execution_count": 14,
      "outputs": []
    },
    {
      "cell_type": "code",
      "metadata": {
        "id": "p2BUafUGAh2a"
      },
      "source": [
        "def clean(list_rows):\n",
        "  tilde = {\n",
        "      'á':'a',\n",
        "      'é':'e',\n",
        "      'í':'i',\n",
        "      'ó':'o',\n",
        "      'ú':'u'\n",
        "  }\n",
        "  punctuation = string.punctuation\n",
        "  new_rows =[]\n",
        "  for list_words in list_rows:\n",
        "    new_list_words = []\n",
        "    for word in list_words:\n",
        "      clean_word = ''\n",
        "      \n",
        "      for letter in word:\n",
        "        if letter in tilde.keys():#quitar tildes\n",
        "          letter = tilde[letter]\n",
        "        if letter not in punctuation:  \n",
        "          clean_word+=letter\n",
        "      if (len(clean_word)>1):\n",
        "        new_list_words.append(clean_word)\n",
        "    new_rows.append(new_list_words)\n",
        "  return new_rows"
      ],
      "execution_count": 15,
      "outputs": []
    },
    {
      "cell_type": "code",
      "metadata": {
        "id": "pPzQsY5RDqKI"
      },
      "source": [
        "new_row_clean = clean(rows_list)"
      ],
      "execution_count": 16,
      "outputs": []
    },
    {
      "cell_type": "code",
      "metadata": {
        "id": "d-Ci65_rQ_6b"
      },
      "source": [
        "dataset['clean_names'] = [' '.join(word) for word in [word_list for word_list in new_row_clean]]"
      ],
      "execution_count": 17,
      "outputs": []
    },
    {
      "cell_type": "code",
      "metadata": {
        "id": "4EuERNEE6MMW"
      },
      "source": [
        "name=dataset['clean_names']"
      ],
      "execution_count": 18,
      "outputs": []
    },
    {
      "cell_type": "code",
      "metadata": {
        "id": "4VH7YGCc-PaO",
        "outputId": "168ccb41-abed-414e-8068-ceb6df10f58a",
        "colab": {
          "base_uri": "https://localhost:8080/"
        }
      },
      "source": [
        "len(name.unique())"
      ],
      "execution_count": 19,
      "outputs": [
        {
          "output_type": "execute_result",
          "data": {
            "text/plain": [
              "73566"
            ]
          },
          "metadata": {
            "tags": []
          },
          "execution_count": 19
        }
      ]
    },
    {
      "cell_type": "code",
      "metadata": {
        "id": "YlvyTa1b99m2"
      },
      "source": [
        "name=list(name)"
      ],
      "execution_count": 20,
      "outputs": []
    },
    {
      "cell_type": "code",
      "metadata": {
        "id": "5qWVJ9-4_rPa"
      },
      "source": [
        "label=list(dataset['SEXO'])"
      ],
      "execution_count": 21,
      "outputs": []
    },
    {
      "cell_type": "code",
      "metadata": {
        "id": "8dsxQxWTBJwu"
      },
      "source": [
        "from sklearn.preprocessing import LabelEncoder\n",
        "le=LabelEncoder()"
      ],
      "execution_count": 22,
      "outputs": []
    },
    {
      "cell_type": "code",
      "metadata": {
        "id": "Zub3D9uhBRfd"
      },
      "source": [
        "labels=le.fit_transform(label)"
      ],
      "execution_count": 23,
      "outputs": []
    },
    {
      "cell_type": "code",
      "metadata": {
        "id": "iHYNjXMgBVmY"
      },
      "source": [
        "# labels"
      ],
      "execution_count": 24,
      "outputs": []
    },
    {
      "cell_type": "code",
      "metadata": {
        "id": "6zglSe53ZRNo",
        "outputId": "9f4cf3db-1934-45c9-d289-614b86a92077",
        "colab": {
          "base_uri": "https://localhost:8080/"
        }
      },
      "source": [
        "le.classes_"
      ],
      "execution_count": 25,
      "outputs": [
        {
          "output_type": "execute_result",
          "data": {
            "text/plain": [
              "array(['F', 'M'], dtype='<U1')"
            ]
          },
          "metadata": {
            "tags": []
          },
          "execution_count": 25
        }
      ]
    },
    {
      "cell_type": "code",
      "metadata": {
        "id": "NG9_pL_QBWsc"
      },
      "source": [
        "from sklearn.feature_extraction.text import CountVectorizer"
      ],
      "execution_count": 26,
      "outputs": []
    },
    {
      "cell_type": "code",
      "metadata": {
        "id": "J2O5ycxFCFi0"
      },
      "source": [
        "cv=CountVectorizer(analyzer='char')"
      ],
      "execution_count": 27,
      "outputs": []
    },
    {
      "cell_type": "code",
      "metadata": {
        "id": "vrQ-2ZUFCOtr"
      },
      "source": [
        "names=cv.fit_transform(name).toarray()"
      ],
      "execution_count": 28,
      "outputs": []
    },
    {
      "cell_type": "code",
      "metadata": {
        "id": "6ARdYOkVYb6e",
        "outputId": "1250336d-3cf2-4345-f8fe-d2811c73d914",
        "colab": {
          "base_uri": "https://localhost:8080/"
        }
      },
      "source": [
        "len(names[1])"
      ],
      "execution_count": 29,
      "outputs": [
        {
          "output_type": "execute_result",
          "data": {
            "text/plain": [
              "53"
            ]
          },
          "metadata": {
            "tags": []
          },
          "execution_count": 29
        }
      ]
    },
    {
      "cell_type": "code",
      "metadata": {
        "id": "CmoD3GmYDCIx"
      },
      "source": [
        "from sklearn.model_selection import train_test_split\n",
        "feature_train,feature_test,label_train,label_test=train_test_split(names,labels,test_size=0.2,random_state=42)"
      ],
      "execution_count": 30,
      "outputs": []
    },
    {
      "cell_type": "code",
      "metadata": {
        "id": "nd3aMXkdC3Gj",
        "outputId": "8f868c6e-243c-4a26-d437-c7dfd94f22f2",
        "colab": {
          "base_uri": "https://localhost:8080/"
        }
      },
      "source": [
        "from sklearn.naive_bayes import MultinomialNB\n",
        "model=MultinomialNB()\n",
        "model.fit(feature_train,label_train)"
      ],
      "execution_count": 31,
      "outputs": [
        {
          "output_type": "execute_result",
          "data": {
            "text/plain": [
              "MultinomialNB(alpha=1.0, class_prior=None, fit_prior=True)"
            ]
          },
          "metadata": {
            "tags": []
          },
          "execution_count": 31
        }
      ]
    },
    {
      "cell_type": "code",
      "metadata": {
        "id": "1uQHaYejEdgX"
      },
      "source": [
        "label_pred=model.predict(feature_test)"
      ],
      "execution_count": 32,
      "outputs": []
    },
    {
      "cell_type": "code",
      "metadata": {
        "id": "CZ6sgLv1Eozy"
      },
      "source": [
        "import sklearn.metrics as m"
      ],
      "execution_count": 33,
      "outputs": []
    },
    {
      "cell_type": "code",
      "metadata": {
        "id": "swaKOYFhEw0n",
        "outputId": "329c279d-383e-42de-82bc-c86d7b7806c5",
        "colab": {
          "base_uri": "https://localhost:8080/"
        }
      },
      "source": [
        "m.accuracy_score(label_test,label_pred)"
      ],
      "execution_count": 34,
      "outputs": [
        {
          "output_type": "execute_result",
          "data": {
            "text/plain": [
              "0.7010731013221082"
            ]
          },
          "metadata": {
            "tags": []
          },
          "execution_count": 34
        }
      ]
    },
    {
      "cell_type": "markdown",
      "metadata": {
        "id": "soPLVRacFIVc"
      },
      "source": [
        "LSTM"
      ]
    },
    {
      "cell_type": "code",
      "metadata": {
        "id": "JVz5ZCqiGUQX"
      },
      "source": [
        "from keras.preprocessing.text import Tokenizer\n",
        "tokenizer = Tokenizer(char_level=True)\n",
        "tokenizer.fit_on_texts(name)\n",
        "sequence_of_int = tokenizer.texts_to_sequences(name)\n"
      ],
      "execution_count": 35,
      "outputs": []
    },
    {
      "cell_type": "code",
      "metadata": {
        "id": "BgI1NYurGVzn"
      },
      "source": [
        "from keras.preprocessing.sequence import pad_sequences\n",
        "padsequences=pad_sequences(sequence_of_int,maxlen=80,padding='post')"
      ],
      "execution_count": 36,
      "outputs": []
    },
    {
      "cell_type": "code",
      "metadata": {
        "id": "CxUI9UuTH0d-",
        "outputId": "eda8c63a-8ad2-41c0-cd63-1caf9dfc9f46",
        "colab": {
          "base_uri": "https://localhost:8080/"
        }
      },
      "source": [
        "len(padsequences[2])"
      ],
      "execution_count": 37,
      "outputs": [
        {
          "output_type": "execute_result",
          "data": {
            "text/plain": [
              "80"
            ]
          },
          "metadata": {
            "tags": []
          },
          "execution_count": 37
        }
      ]
    },
    {
      "cell_type": "code",
      "metadata": {
        "id": "JRh-OrR-HEUn"
      },
      "source": [
        "from keras.utils.np_utils import to_categorical\n",
        "labels=to_categorical(labels)"
      ],
      "execution_count": 38,
      "outputs": []
    },
    {
      "cell_type": "code",
      "metadata": {
        "id": "eaYd-QwbE1zl"
      },
      "source": [
        "from keras.models import Sequential\n",
        "from keras.layers import Dense,LSTM,Embedding,Dropout"
      ],
      "execution_count": 39,
      "outputs": []
    },
    {
      "cell_type": "code",
      "metadata": {
        "id": "J0TBmNVSRi8N",
        "outputId": "daa3021f-ae63-4453-fc80-afe898d6b8bb",
        "colab": {
          "base_uri": "https://localhost:8080/"
        }
      },
      "source": [
        "padsequences.shape"
      ],
      "execution_count": 40,
      "outputs": [
        {
          "output_type": "execute_result",
          "data": {
            "text/plain": [
              "(84335, 80)"
            ]
          },
          "metadata": {
            "tags": []
          },
          "execution_count": 40
        }
      ]
    },
    {
      "cell_type": "code",
      "metadata": {
        "id": "ToSuSk0W3bIZ",
        "outputId": "6bbe67ae-da9f-451e-a4ae-d0ede15a83b6",
        "colab": {
          "base_uri": "https://localhost:8080/"
        }
      },
      "source": [
        "padsequences.shape"
      ],
      "execution_count": 41,
      "outputs": [
        {
          "output_type": "execute_result",
          "data": {
            "text/plain": [
              "(84335, 80)"
            ]
          },
          "metadata": {
            "tags": []
          },
          "execution_count": 41
        }
      ]
    },
    {
      "cell_type": "code",
      "metadata": {
        "id": "-wKBUvm73aa-"
      },
      "source": [
        "padsequences = np.reshape(padsequences,(padsequences.shape[0],padsequences.shape[1],1))#esto add yo"
      ],
      "execution_count": 42,
      "outputs": []
    },
    {
      "cell_type": "code",
      "metadata": {
        "id": "UiuerVy8SbJ1"
      },
      "source": [
        "from sklearn.model_selection import train_test_split\n",
        "feature_train,feature_test,label_train,label_test=train_test_split(padsequences,labels,test_size=0.1,random_state=42)"
      ],
      "execution_count": 43,
      "outputs": []
    },
    {
      "cell_type": "code",
      "metadata": {
        "id": "oFr9dBuLWV6L",
        "outputId": "521f2968-5eaa-4034-c671-bf134989c9cb",
        "colab": {
          "base_uri": "https://localhost:8080/"
        }
      },
      "source": [
        "print(feature_train.shape)\n",
        "print(feature_test.shape)\n",
        "print(label_train.shape)\n",
        "print(label_test.shape)"
      ],
      "execution_count": 44,
      "outputs": [
        {
          "output_type": "stream",
          "text": [
            "(75901, 80, 1)\n",
            "(8434, 80, 1)\n",
            "(75901, 2)\n",
            "(8434, 2)\n"
          ],
          "name": "stdout"
        }
      ]
    },
    {
      "cell_type": "code",
      "metadata": {
        "id": "tzXZY7r9Wy8U",
        "outputId": "d9f6ea11-8ae4-418d-a5b3-e44b8627cf59",
        "colab": {
          "base_uri": "https://localhost:8080/"
        }
      },
      "source": [
        "label_test[0]"
      ],
      "execution_count": 45,
      "outputs": [
        {
          "output_type": "execute_result",
          "data": {
            "text/plain": [
              "array([1., 0.], dtype=float32)"
            ]
          },
          "metadata": {
            "tags": []
          },
          "execution_count": 45
        }
      ]
    },
    {
      "cell_type": "code",
      "metadata": {
        "id": "-d0qp6ls0Z8K",
        "outputId": "1152844a-9b7e-40e4-af53-78b8c53f9652",
        "colab": {
          "base_uri": "https://localhost:8080/"
        }
      },
      "source": [
        "27*64"
      ],
      "execution_count": 46,
      "outputs": [
        {
          "output_type": "execute_result",
          "data": {
            "text/plain": [
              "1728"
            ]
          },
          "metadata": {
            "tags": []
          },
          "execution_count": 46
        }
      ]
    },
    {
      "cell_type": "code",
      "metadata": {
        "id": "IbuRZ6N35Ktx",
        "outputId": "a89969a9-4b9c-4453-c686-9b06711e5e30",
        "colab": {
          "base_uri": "https://localhost:8080/"
        }
      },
      "source": [
        "max(feature_train.ravel())"
      ],
      "execution_count": 47,
      "outputs": [
        {
          "output_type": "execute_result",
          "data": {
            "text/plain": [
              "53"
            ]
          },
          "metadata": {
            "tags": []
          },
          "execution_count": 47
        }
      ]
    },
    {
      "cell_type": "code",
      "metadata": {
        "id": "4qlw8ri6F0C8",
        "outputId": "d612e8f7-fec2-4353-9450-990c1240ab3b",
        "colab": {
          "base_uri": "https://localhost:8080/"
        }
      },
      "source": [
        "model=Sequential()\n",
        "model.add(Embedding(53+1,100,input_length=80))\n",
        "model.add(LSTM(2048,return_sequences=True))\n",
        "model.add(LSTM(256,return_sequences=False))\n",
        "model.add(Dropout(0.2))\n",
        "model.add(Dense(2,activation='sigmoid'))\n",
        "model.compile(loss='binary_crossentropy',optimizer='adam',metrics=['accuracy'])\n",
        "model.summary()"
      ],
      "execution_count": 52,
      "outputs": [
        {
          "output_type": "stream",
          "text": [
            "Model: \"sequential_2\"\n",
            "_________________________________________________________________\n",
            "Layer (type)                 Output Shape              Param #   \n",
            "=================================================================\n",
            "embedding_2 (Embedding)      (None, 80, 100)           5400      \n",
            "_________________________________________________________________\n",
            "lstm_4 (LSTM)                (None, 80, 2048)          17604608  \n",
            "_________________________________________________________________\n",
            "lstm_5 (LSTM)                (None, 256)               2360320   \n",
            "_________________________________________________________________\n",
            "dropout_2 (Dropout)          (None, 256)               0         \n",
            "_________________________________________________________________\n",
            "dense_2 (Dense)              (None, 2)                 514       \n",
            "=================================================================\n",
            "Total params: 19,970,842\n",
            "Trainable params: 19,970,842\n",
            "Non-trainable params: 0\n",
            "_________________________________________________________________\n"
          ],
          "name": "stdout"
        }
      ]
    },
    {
      "cell_type": "code",
      "metadata": {
        "id": "z5J9PQBPIyOL",
        "outputId": "7568caef-2781-4b94-8564-05a585c62cf9",
        "colab": {
          "base_uri": "https://localhost:8080/"
        }
      },
      "source": [
        "model.fit(feature_train,label_train,batch_size=1000,epochs=50,validation_data=(feature_test,label_test),verbose=1)\n"
      ],
      "execution_count": 53,
      "outputs": [
        {
          "output_type": "stream",
          "text": [
            "Epoch 1/50\n",
            "76/76 [==============================] - 271s 4s/step - loss: 0.6937 - accuracy: 0.5030 - val_loss: 0.6933 - val_accuracy: 0.4948\n",
            "Epoch 2/50\n",
            "76/76 [==============================] - 272s 4s/step - loss: 0.7072 - accuracy: 0.5047 - val_loss: 0.6929 - val_accuracy: 0.5154\n",
            "Epoch 3/50\n",
            "76/76 [==============================] - 273s 4s/step - loss: 0.6899 - accuracy: 0.5289 - val_loss: 0.6887 - val_accuracy: 0.5500\n",
            "Epoch 4/50\n",
            "76/76 [==============================] - 273s 4s/step - loss: 0.6842 - accuracy: 0.5559 - val_loss: 0.6838 - val_accuracy: 0.5612\n",
            "Epoch 5/50\n",
            "76/76 [==============================] - 272s 4s/step - loss: 0.6833 - accuracy: 0.5588 - val_loss: 0.6845 - val_accuracy: 0.5708\n",
            "Epoch 6/50\n",
            "76/76 [==============================] - 273s 4s/step - loss: 0.6789 - accuracy: 0.5720 - val_loss: 0.6742 - val_accuracy: 0.5816\n",
            "Epoch 7/50\n",
            "76/76 [==============================] - 273s 4s/step - loss: 0.6871 - accuracy: 0.5384 - val_loss: 0.6916 - val_accuracy: 0.4948\n",
            "Epoch 8/50\n",
            "76/76 [==============================] - 272s 4s/step - loss: 0.6865 - accuracy: 0.5454 - val_loss: 0.6874 - val_accuracy: 0.5510\n",
            "Epoch 9/50\n",
            "76/76 [==============================] - 272s 4s/step - loss: 0.6847 - accuracy: 0.5534 - val_loss: 0.6853 - val_accuracy: 0.5594\n",
            "Epoch 10/50\n",
            "76/76 [==============================] - 272s 4s/step - loss: 0.6817 - accuracy: 0.5668 - val_loss: 0.6842 - val_accuracy: 0.5554\n",
            "Epoch 11/50\n",
            "76/76 [==============================] - 273s 4s/step - loss: 0.6820 - accuracy: 0.5659 - val_loss: 0.6842 - val_accuracy: 0.5557\n",
            "Epoch 12/50\n",
            "76/76 [==============================] - 272s 4s/step - loss: 0.6821 - accuracy: 0.5661 - val_loss: 0.6839 - val_accuracy: 0.5558\n",
            "Epoch 13/50\n",
            "76/76 [==============================] - 272s 4s/step - loss: 0.6821 - accuracy: 0.5665 - val_loss: 0.6845 - val_accuracy: 0.5566\n",
            "Epoch 14/50\n",
            "76/76 [==============================] - 272s 4s/step - loss: 0.6817 - accuracy: 0.5665 - val_loss: 0.6831 - val_accuracy: 0.5570\n",
            "Epoch 15/50\n",
            "76/76 [==============================] - 271s 4s/step - loss: 0.6816 - accuracy: 0.5688 - val_loss: 0.6841 - val_accuracy: 0.5590\n",
            "Epoch 16/50\n",
            "76/76 [==============================] - 272s 4s/step - loss: 0.6816 - accuracy: 0.5689 - val_loss: 0.6836 - val_accuracy: 0.5599\n",
            "Epoch 17/50\n",
            "76/76 [==============================] - 274s 4s/step - loss: 0.6887 - accuracy: 0.5401 - val_loss: 0.7096 - val_accuracy: 0.4477\n",
            "Epoch 18/50\n",
            "76/76 [==============================] - 276s 4s/step - loss: 0.6845 - accuracy: 0.5618 - val_loss: 0.6821 - val_accuracy: 0.5664\n",
            "Epoch 19/50\n",
            "76/76 [==============================] - 276s 4s/step - loss: 0.6831 - accuracy: 0.5672 - val_loss: 0.6839 - val_accuracy: 0.5777\n",
            "Epoch 20/50\n",
            "76/76 [==============================] - 275s 4s/step - loss: 0.6904 - accuracy: 0.5328 - val_loss: 0.6875 - val_accuracy: 0.5512\n",
            "Epoch 21/50\n",
            "76/76 [==============================] - 275s 4s/step - loss: 0.6830 - accuracy: 0.5572 - val_loss: 0.6810 - val_accuracy: 0.5711\n",
            "Epoch 22/50\n",
            "76/76 [==============================] - 276s 4s/step - loss: 0.6816 - accuracy: 0.5602 - val_loss: 0.6809 - val_accuracy: 0.5682\n",
            "Epoch 23/50\n",
            "76/76 [==============================] - 276s 4s/step - loss: 0.6772 - accuracy: 0.5743 - val_loss: 0.6731 - val_accuracy: 0.5896\n",
            "Epoch 24/50\n",
            "76/76 [==============================] - 276s 4s/step - loss: 0.6897 - accuracy: 0.5266 - val_loss: 0.6930 - val_accuracy: 0.5094\n",
            "Epoch 25/50\n",
            "76/76 [==============================] - 274s 4s/step - loss: 0.6923 - accuracy: 0.5190 - val_loss: 0.6910 - val_accuracy: 0.5183\n",
            "Epoch 26/50\n",
            "76/76 [==============================] - 274s 4s/step - loss: 0.6900 - accuracy: 0.5277 - val_loss: 0.6888 - val_accuracy: 0.5415\n",
            "Epoch 27/50\n",
            "76/76 [==============================] - 273s 4s/step - loss: 0.6888 - accuracy: 0.5275 - val_loss: 0.6862 - val_accuracy: 0.5443\n",
            "Epoch 28/50\n",
            "76/76 [==============================] - 273s 4s/step - loss: 0.6864 - accuracy: 0.5475 - val_loss: 0.6823 - val_accuracy: 0.5656\n",
            "Epoch 29/50\n",
            "76/76 [==============================] - 273s 4s/step - loss: 0.6785 - accuracy: 0.5672 - val_loss: 0.6731 - val_accuracy: 0.5739\n",
            "Epoch 30/50\n",
            "76/76 [==============================] - 274s 4s/step - loss: 0.6620 - accuracy: 0.6013 - val_loss: 0.6465 - val_accuracy: 0.6233\n",
            "Epoch 31/50\n",
            "76/76 [==============================] - 273s 4s/step - loss: 0.6368 - accuracy: 0.6362 - val_loss: 0.5903 - val_accuracy: 0.6864\n",
            "Epoch 32/50\n",
            "76/76 [==============================] - 272s 4s/step - loss: 0.5566 - accuracy: 0.7173 - val_loss: 0.4907 - val_accuracy: 0.7674\n",
            "Epoch 33/50\n",
            "76/76 [==============================] - 272s 4s/step - loss: 0.4366 - accuracy: 0.8007 - val_loss: 0.4075 - val_accuracy: 0.8200\n",
            "Epoch 34/50\n",
            "76/76 [==============================] - 272s 4s/step - loss: 0.3608 - accuracy: 0.8450 - val_loss: 0.3364 - val_accuracy: 0.8553\n",
            "Epoch 35/50\n",
            "76/76 [==============================] - 272s 4s/step - loss: 0.3257 - accuracy: 0.8613 - val_loss: 0.3087 - val_accuracy: 0.8698\n",
            "Epoch 36/50\n",
            "76/76 [==============================] - 271s 4s/step - loss: 0.3045 - accuracy: 0.8697 - val_loss: 0.3041 - val_accuracy: 0.8690\n",
            "Epoch 37/50\n",
            "76/76 [==============================] - 272s 4s/step - loss: 0.2895 - accuracy: 0.8760 - val_loss: 0.2888 - val_accuracy: 0.8757\n",
            "Epoch 38/50\n",
            "76/76 [==============================] - 272s 4s/step - loss: 0.2796 - accuracy: 0.8809 - val_loss: 0.2817 - val_accuracy: 0.8814\n",
            "Epoch 39/50\n",
            "76/76 [==============================] - 271s 4s/step - loss: 0.2694 - accuracy: 0.8844 - val_loss: 0.2684 - val_accuracy: 0.8864\n",
            "Epoch 40/50\n",
            "76/76 [==============================] - 271s 4s/step - loss: 0.2595 - accuracy: 0.8895 - val_loss: 0.2749 - val_accuracy: 0.8839\n",
            "Epoch 41/50\n",
            "76/76 [==============================] - 272s 4s/step - loss: 0.2507 - accuracy: 0.8922 - val_loss: 0.2569 - val_accuracy: 0.8921\n",
            "Epoch 42/50\n",
            "76/76 [==============================] - 272s 4s/step - loss: 0.2453 - accuracy: 0.8943 - val_loss: 0.2696 - val_accuracy: 0.8825\n",
            "Epoch 43/50\n",
            "76/76 [==============================] - 272s 4s/step - loss: 0.2400 - accuracy: 0.8962 - val_loss: 0.2595 - val_accuracy: 0.8903\n",
            "Epoch 44/50\n",
            "76/76 [==============================] - 272s 4s/step - loss: 0.2328 - accuracy: 0.9006 - val_loss: 0.2579 - val_accuracy: 0.8899\n",
            "Epoch 45/50\n",
            "76/76 [==============================] - 272s 4s/step - loss: 0.2269 - accuracy: 0.9037 - val_loss: 0.2507 - val_accuracy: 0.8959\n",
            "Epoch 46/50\n",
            "76/76 [==============================] - 272s 4s/step - loss: 0.2208 - accuracy: 0.9061 - val_loss: 0.2437 - val_accuracy: 0.8961\n",
            "Epoch 47/50\n",
            "76/76 [==============================] - 272s 4s/step - loss: 0.2204 - accuracy: 0.9052 - val_loss: 0.2438 - val_accuracy: 0.8966\n",
            "Epoch 48/50\n",
            "76/76 [==============================] - 272s 4s/step - loss: 0.2107 - accuracy: 0.9104 - val_loss: 0.2428 - val_accuracy: 0.8978\n",
            "Epoch 49/50\n",
            "76/76 [==============================] - 272s 4s/step - loss: 0.2034 - accuracy: 0.9137 - val_loss: 0.2448 - val_accuracy: 0.8977\n",
            "Epoch 50/50\n",
            "76/76 [==============================] - 272s 4s/step - loss: 0.1983 - accuracy: 0.9158 - val_loss: 0.2370 - val_accuracy: 0.9048\n"
          ],
          "name": "stdout"
        },
        {
          "output_type": "execute_result",
          "data": {
            "text/plain": [
              "<tensorflow.python.keras.callbacks.History at 0x7f616832df28>"
            ]
          },
          "metadata": {
            "tags": []
          },
          "execution_count": 53
        }
      ]
    },
    {
      "cell_type": "code",
      "metadata": {
        "id": "rC2ixj4T-knV"
      },
      "source": [
        "model.save('model.h5')"
      ],
      "execution_count": 54,
      "outputs": []
    },
    {
      "cell_type": "code",
      "metadata": {
        "id": "epoanv6C_pRM"
      },
      "source": [
        "import sklearn.metrics as m\n"
      ],
      "execution_count": 55,
      "outputs": []
    },
    {
      "cell_type": "code",
      "metadata": {
        "id": "jrjGjQqi_vwZ"
      },
      "source": [
        "label_pred=model.predict(feature_test)"
      ],
      "execution_count": 56,
      "outputs": []
    },
    {
      "cell_type": "code",
      "metadata": {
        "id": "WTu8ZqHB_8-c"
      },
      "source": [
        "label_pred=np.argmax(label_pred,axis=1)"
      ],
      "execution_count": 57,
      "outputs": []
    },
    {
      "cell_type": "code",
      "metadata": {
        "id": "BxtSM8fmAOFl",
        "outputId": "d181623b-78e5-4fa7-dbfb-222039ab30e9",
        "colab": {
          "base_uri": "https://localhost:8080/"
        }
      },
      "source": [
        "label_pred"
      ],
      "execution_count": 58,
      "outputs": [
        {
          "output_type": "execute_result",
          "data": {
            "text/plain": [
              "array([1, 1, 0, ..., 1, 0, 1])"
            ]
          },
          "metadata": {
            "tags": []
          },
          "execution_count": 58
        }
      ]
    },
    {
      "cell_type": "code",
      "metadata": {
        "id": "lqcxyCHBADdt"
      },
      "source": [
        "l_test=np.argmax(label_test,axis=1)"
      ],
      "execution_count": 59,
      "outputs": []
    },
    {
      "cell_type": "code",
      "metadata": {
        "id": "kIZc5x1y_v0V",
        "outputId": "10f52739-2e0a-4f62-ce79-6e9691635e18",
        "colab": {
          "base_uri": "https://localhost:8080/"
        }
      },
      "source": [
        "m.accuracy_score(l_test,label_pred)"
      ],
      "execution_count": 60,
      "outputs": [
        {
          "output_type": "execute_result",
          "data": {
            "text/plain": [
              "0.9047901351671804"
            ]
          },
          "metadata": {
            "tags": []
          },
          "execution_count": 60
        }
      ]
    },
    {
      "cell_type": "code",
      "metadata": {
        "id": "FPCi8cs5AbOo",
        "outputId": "294847e9-505c-4bf6-d6e2-ec9ea37c50a0",
        "colab": {
          "base_uri": "https://localhost:8080/"
        }
      },
      "source": [
        "print(m.classification_report(l_test,label_pred))"
      ],
      "execution_count": 61,
      "outputs": [
        {
          "output_type": "stream",
          "text": [
            "              precision    recall  f1-score   support\n",
            "\n",
            "           0       0.91      0.90      0.91      4261\n",
            "           1       0.90      0.91      0.90      4173\n",
            "\n",
            "    accuracy                           0.90      8434\n",
            "   macro avg       0.90      0.90      0.90      8434\n",
            "weighted avg       0.90      0.90      0.90      8434\n",
            "\n"
          ],
          "name": "stdout"
        }
      ]
    },
    {
      "cell_type": "code",
      "metadata": {
        "id": "wYFXBISiAhGv",
        "outputId": "56973e9d-06f1-4edd-cd4f-d250fb3a8d5f",
        "colab": {
          "base_uri": "https://localhost:8080/"
        }
      },
      "source": [
        "m.confusion_matrix(l_test,label_pred)"
      ],
      "execution_count": 62,
      "outputs": [
        {
          "output_type": "execute_result",
          "data": {
            "text/plain": [
              "array([[3850,  411],\n",
              "       [ 392, 3781]])"
            ]
          },
          "metadata": {
            "tags": []
          },
          "execution_count": 62
        }
      ]
    },
    {
      "cell_type": "code",
      "metadata": {
        "id": "P8a91f8B-nU6"
      },
      "source": [
        "from keras.models import load_model"
      ],
      "execution_count": 63,
      "outputs": []
    },
    {
      "cell_type": "code",
      "metadata": {
        "id": "q7LUaLnb--b3"
      },
      "source": [
        "import pickle"
      ],
      "execution_count": 64,
      "outputs": []
    },
    {
      "cell_type": "code",
      "metadata": {
        "id": "-UAP2C43_A15"
      },
      "source": [
        "pickle.dump(tokenizer,open('tokenizer.pkl','wb+'),protocol=pickle.HIGHEST_PROTOCOL)"
      ],
      "execution_count": 65,
      "outputs": []
    },
    {
      "cell_type": "code",
      "metadata": {
        "id": "0R7cNwsr_TR3"
      },
      "source": [
        "tokenizer=pickle.load(open('tokenizer.pkl','rb+'))"
      ],
      "execution_count": 66,
      "outputs": []
    },
    {
      "cell_type": "code",
      "metadata": {
        "id": "ea0PpAde_bkj",
        "outputId": "1f32564d-4121-4a5c-b13c-4f73c6273e31",
        "colab": {
          "base_uri": "https://localhost:8080/"
        }
      },
      "source": [
        "tokenizer.index_word"
      ],
      "execution_count": 67,
      "outputs": [
        {
          "output_type": "execute_result",
          "data": {
            "text/plain": [
              "{1: 'a',\n",
              " 2: 'i',\n",
              " 3: 'e',\n",
              " 4: 'n',\n",
              " 5: 'r',\n",
              " 6: 'o',\n",
              " 7: 'l',\n",
              " 8: ' ',\n",
              " 9: 's',\n",
              " 10: 'm',\n",
              " 11: 't',\n",
              " 12: 'd',\n",
              " 13: 'u',\n",
              " 14: 'c',\n",
              " 15: 'g',\n",
              " 16: 'h',\n",
              " 17: 'b',\n",
              " 18: 'j',\n",
              " 19: 'y',\n",
              " 20: 'v',\n",
              " 21: 'f',\n",
              " 22: 'p',\n",
              " 23: 'k',\n",
              " 24: 'z',\n",
              " 25: 'w',\n",
              " 26: 'x',\n",
              " 27: 'q',\n",
              " 28: 'ð',\n",
              " 29: 'ö',\n",
              " 30: 'þ',\n",
              " 31: 'ñ',\n",
              " 32: 'ü',\n",
              " 33: 'ý',\n",
              " 34: 'ç',\n",
              " 35: 'æ',\n",
              " 36: 'ë',\n",
              " 37: 'è',\n",
              " 38: 'ş',\n",
              " 39: 'ğ',\n",
              " 40: 'ı',\n",
              " 41: 'ä',\n",
              " 42: 'ï',\n",
              " 43: 'à',\n",
              " 44: 'å',\n",
              " 45: 'ò',\n",
              " 46: 'ì',\n",
              " 47: 'ã',\n",
              " 48: 'ô',\n",
              " 49: 'ι',\n",
              " 50: 'â',\n",
              " 51: 'ù',\n",
              " 52: 'î',\n",
              " 53: 'ê'}"
            ]
          },
          "metadata": {
            "tags": []
          },
          "execution_count": 67
        }
      ]
    },
    {
      "cell_type": "code",
      "metadata": {
        "id": "2aa7lTia_fGU"
      },
      "source": [
        "def input(n):\n",
        "  q=tokenizer.texts_to_sequences(n)\n",
        "  q=[i[0] for i in q]\n",
        "  q1=[]\n",
        "  q1.append(q)\n",
        "  s=pad_sequences(q1,maxlen=80,padding='post')\n",
        "  return s"
      ],
      "execution_count": 75,
      "outputs": []
    },
    {
      "cell_type": "code",
      "metadata": {
        "id": "_R91URSXBP7-",
        "outputId": "444e9fdd-d84f-4b8f-ead7-104bfeb7c33f",
        "colab": {
          "base_uri": "https://localhost:8080/"
        }
      },
      "source": [
        "tokenizer.texts_to_sequences('cristhian')"
      ],
      "execution_count": 76,
      "outputs": [
        {
          "output_type": "execute_result",
          "data": {
            "text/plain": [
              "[[14], [5], [2], [9], [11], [16], [2], [1], [4]]"
            ]
          },
          "metadata": {
            "tags": []
          },
          "execution_count": 76
        }
      ]
    },
    {
      "cell_type": "code",
      "metadata": {
        "id": "LGVq3z9uBHTZ",
        "outputId": "c6053d0b-a36d-4115-f2b4-7a4f9f2f5fac",
        "colab": {
          "base_uri": "https://localhost:8080/"
        }
      },
      "source": [
        "input('kamesh')"
      ],
      "execution_count": 77,
      "outputs": [
        {
          "output_type": "execute_result",
          "data": {
            "text/plain": [
              "array([[23,  1, 10,  3,  9, 16,  0,  0,  0,  0,  0,  0,  0,  0,  0,  0,\n",
              "         0,  0,  0,  0,  0,  0,  0,  0,  0,  0,  0,  0,  0,  0,  0,  0,\n",
              "         0,  0,  0,  0,  0,  0,  0,  0,  0,  0,  0,  0,  0,  0,  0,  0,\n",
              "         0,  0,  0,  0,  0,  0,  0,  0,  0,  0,  0,  0,  0,  0,  0,  0,\n",
              "         0,  0,  0,  0,  0,  0,  0,  0,  0,  0,  0,  0,  0,  0,  0,  0]],\n",
              "      dtype=int32)"
            ]
          },
          "metadata": {
            "tags": []
          },
          "execution_count": 77
        }
      ]
    },
    {
      "cell_type": "code",
      "metadata": {
        "id": "yCN-3oqMBK8f"
      },
      "source": [
        "def pred(n):\n",
        "  w=model.predict(input(n))\n",
        "  w=np.argmax(w,axis=1)\n",
        "  return w[0]"
      ],
      "execution_count": 78,
      "outputs": []
    },
    {
      "cell_type": "code",
      "metadata": {
        "id": "pYJxqTBbBgmr",
        "outputId": "002d7adf-f0a9-45ed-d852-22cfe2278b3e",
        "colab": {
          "base_uri": "https://localhost:8080/"
        }
      },
      "source": [
        "pred('josefina')"
      ],
      "execution_count": 79,
      "outputs": [
        {
          "output_type": "execute_result",
          "data": {
            "text/plain": [
              "0"
            ]
          },
          "metadata": {
            "tags": []
          },
          "execution_count": 79
        }
      ]
    },
    {
      "cell_type": "code",
      "metadata": {
        "id": "QEYjrfCNBvYu",
        "outputId": "94780a72-1024-41ce-d52a-39001d2daea1",
        "colab": {
          "base_uri": "https://localhost:8080/"
        }
      },
      "source": [
        "pred('cristhian')"
      ],
      "execution_count": 81,
      "outputs": [
        {
          "output_type": "execute_result",
          "data": {
            "text/plain": [
              "1"
            ]
          },
          "metadata": {
            "tags": []
          },
          "execution_count": 81
        }
      ]
    },
    {
      "cell_type": "code",
      "metadata": {
        "id": "JSIGChhvB0jS",
        "outputId": "2805dfeb-76f5-4464-d031-ef1fe3b1cd5b",
        "colab": {
          "base_uri": "https://localhost:8080/"
        }
      },
      "source": [
        "pred('maria')"
      ],
      "execution_count": 82,
      "outputs": [
        {
          "output_type": "execute_result",
          "data": {
            "text/plain": [
              "0"
            ]
          },
          "metadata": {
            "tags": []
          },
          "execution_count": 82
        }
      ]
    },
    {
      "cell_type": "code",
      "metadata": {
        "id": "B-eA91vCB36T",
        "outputId": "80149292-da2a-45bd-af55-d13914bc8a29",
        "colab": {
          "base_uri": "https://localhost:8080/"
        }
      },
      "source": [
        "pred('jose')"
      ],
      "execution_count": 83,
      "outputs": [
        {
          "output_type": "execute_result",
          "data": {
            "text/plain": [
              "1"
            ]
          },
          "metadata": {
            "tags": []
          },
          "execution_count": 83
        }
      ]
    },
    {
      "cell_type": "code",
      "metadata": {
        "id": "LKubzEajCLW9",
        "outputId": "d3cd5000-c83e-4a86-c73a-1bb4aa226028",
        "colab": {
          "base_uri": "https://localhost:8080/"
        }
      },
      "source": [
        "pred('alex')"
      ],
      "execution_count": 84,
      "outputs": [
        {
          "output_type": "execute_result",
          "data": {
            "text/plain": [
              "1"
            ]
          },
          "metadata": {
            "tags": []
          },
          "execution_count": 84
        }
      ]
    },
    {
      "cell_type": "code",
      "metadata": {
        "id": "0DZpcwIGCQnU"
      },
      "source": [
        "pred('preethi')"
      ],
      "execution_count": null,
      "outputs": []
    },
    {
      "cell_type": "code",
      "metadata": {
        "id": "3vqfloDQCVQw"
      },
      "source": [
        "pred('John')"
      ],
      "execution_count": null,
      "outputs": []
    },
    {
      "cell_type": "code",
      "metadata": {
        "id": "nAWrrdqpCYV2"
      },
      "source": [
        "pred('mahesh')"
      ],
      "execution_count": null,
      "outputs": []
    },
    {
      "cell_type": "code",
      "metadata": {
        "id": "zgOOiUdjCasG"
      },
      "source": [
        "pred('raju')"
      ],
      "execution_count": null,
      "outputs": []
    },
    {
      "cell_type": "code",
      "metadata": {
        "id": "2_lZSmZYCdIJ"
      },
      "source": [
        "pred('abhitha')"
      ],
      "execution_count": null,
      "outputs": []
    },
    {
      "cell_type": "code",
      "metadata": {
        "id": "fFWS8JHjCgPD"
      },
      "source": [
        "pred('ratnamahadevi')"
      ],
      "execution_count": null,
      "outputs": []
    },
    {
      "cell_type": "code",
      "metadata": {
        "id": "0TulNDhWClRz"
      },
      "source": [
        "pred('srimukhi')"
      ],
      "execution_count": null,
      "outputs": []
    },
    {
      "cell_type": "code",
      "metadata": {
        "id": "SdidUVoNCos0"
      },
      "source": [
        "pred('rajashekhar')"
      ],
      "execution_count": null,
      "outputs": []
    },
    {
      "cell_type": "code",
      "metadata": {
        "id": "tGFX8w1mCrmX"
      },
      "source": [
        "pred('manga')"
      ],
      "execution_count": null,
      "outputs": []
    },
    {
      "cell_type": "code",
      "metadata": {
        "id": "S8xkYyQMC4V1"
      },
      "source": [
        "pred('katyayani')"
      ],
      "execution_count": null,
      "outputs": []
    },
    {
      "cell_type": "code",
      "metadata": {
        "id": "uMi0b-n4C80W"
      },
      "source": [
        "pred('prakash')"
      ],
      "execution_count": null,
      "outputs": []
    },
    {
      "cell_type": "code",
      "metadata": {
        "id": "42_F4QUeDJun"
      },
      "source": [
        "pred('shanmukh')"
      ],
      "execution_count": null,
      "outputs": []
    },
    {
      "cell_type": "code",
      "metadata": {
        "id": "iUAu9kwsDOBC"
      },
      "source": [
        "pred('bhargav')"
      ],
      "execution_count": null,
      "outputs": []
    },
    {
      "cell_type": "code",
      "metadata": {
        "id": "PvaMG9B3DQka"
      },
      "source": [
        "pred('aditya')"
      ],
      "execution_count": null,
      "outputs": []
    },
    {
      "cell_type": "code",
      "metadata": {
        "id": "Dw2F0U41DSh0"
      },
      "source": [
        "pred('akshar')"
      ],
      "execution_count": null,
      "outputs": []
    },
    {
      "cell_type": "code",
      "metadata": {
        "id": "KFxRgmghDUnr"
      },
      "source": [
        "pred('madhav')"
      ],
      "execution_count": null,
      "outputs": []
    },
    {
      "cell_type": "code",
      "metadata": {
        "id": "Jibn2fEUDWqs"
      },
      "source": [
        "pred('madhavi')"
      ],
      "execution_count": null,
      "outputs": []
    },
    {
      "cell_type": "code",
      "metadata": {
        "id": "zPKOn7bfDZaM"
      },
      "source": [
        "pred('durga')"
      ],
      "execution_count": null,
      "outputs": []
    },
    {
      "cell_type": "code",
      "metadata": {
        "id": "CvON1wiFD08t"
      },
      "source": [
        "pred('saisudha')"
      ],
      "execution_count": null,
      "outputs": []
    },
    {
      "cell_type": "code",
      "metadata": {
        "id": "fO23GIRnD2qY"
      },
      "source": [
        "pred('durgesh')"
      ],
      "execution_count": null,
      "outputs": []
    },
    {
      "cell_type": "code",
      "metadata": {
        "id": "IDWyF798EBeo"
      },
      "source": [
        "pred('rangesh')"
      ],
      "execution_count": null,
      "outputs": []
    },
    {
      "cell_type": "code",
      "metadata": {
        "id": "2Rh0v2B-Es2K"
      },
      "source": [
        "pred('rangarao')"
      ],
      "execution_count": null,
      "outputs": []
    },
    {
      "cell_type": "code",
      "metadata": {
        "id": "dfGdepoPE2pq"
      },
      "source": [
        "pred('kameshwari')"
      ],
      "execution_count": null,
      "outputs": []
    },
    {
      "cell_type": "code",
      "metadata": {
        "id": "w0f2OX0pFCFn"
      },
      "source": [
        "pred('kameswararao')"
      ],
      "execution_count": null,
      "outputs": []
    },
    {
      "cell_type": "code",
      "metadata": {
        "id": "nPEQAEd9FKVp"
      },
      "source": [
        "model.save('model.h5')"
      ],
      "execution_count": null,
      "outputs": []
    },
    {
      "cell_type": "code",
      "metadata": {
        "id": "Gk85RKC8FQK6"
      },
      "source": [
        "pred('srilekha')"
      ],
      "execution_count": null,
      "outputs": []
    },
    {
      "cell_type": "code",
      "metadata": {
        "id": "rRVDunySFnFu"
      },
      "source": [
        "pred('srikhar')"
      ],
      "execution_count": null,
      "outputs": []
    },
    {
      "cell_type": "code",
      "metadata": {
        "id": "9MTIyVHSFrOI"
      },
      "source": [
        "pred('aliabhatt')"
      ],
      "execution_count": null,
      "outputs": []
    },
    {
      "cell_type": "code",
      "metadata": {
        "id": "A9XVci76NXaU"
      },
      "source": [
        "pred('aryabatt')"
      ],
      "execution_count": null,
      "outputs": []
    },
    {
      "cell_type": "code",
      "metadata": {
        "id": "9c9bSIzrNa_u"
      },
      "source": [
        "pred('harsh')"
      ],
      "execution_count": null,
      "outputs": []
    },
    {
      "cell_type": "code",
      "metadata": {
        "id": "XoJtBiZVNhEF"
      },
      "source": [
        "pred('garimasingh')"
      ],
      "execution_count": null,
      "outputs": []
    },
    {
      "cell_type": "code",
      "metadata": {
        "id": "zu9koa9PNqao"
      },
      "source": [
        "pred('prabhkiratsingh')"
      ],
      "execution_count": null,
      "outputs": []
    },
    {
      "cell_type": "code",
      "metadata": {
        "id": "UNGO-hrUNspQ"
      },
      "source": [
        "pred('rakesh')"
      ],
      "execution_count": null,
      "outputs": []
    },
    {
      "cell_type": "code",
      "metadata": {
        "id": "851y6LCqN0g7"
      },
      "source": [
        "pred('uday')"
      ],
      "execution_count": null,
      "outputs": []
    },
    {
      "cell_type": "code",
      "metadata": {
        "id": "RI6XMS0cN3J1"
      },
      "source": [
        "pred('krishna')"
      ],
      "execution_count": null,
      "outputs": []
    },
    {
      "cell_type": "code",
      "metadata": {
        "id": "TQgZUVNMN5Ti"
      },
      "source": [
        "pred('ram')"
      ],
      "execution_count": null,
      "outputs": []
    },
    {
      "cell_type": "code",
      "metadata": {
        "id": "pbXbPDuON7i6"
      },
      "source": [
        "pred('satyasai')"
      ],
      "execution_count": null,
      "outputs": []
    },
    {
      "cell_type": "code",
      "metadata": {
        "id": "VGlaKHVpN-nQ"
      },
      "source": [
        "pred('divyansh')"
      ],
      "execution_count": null,
      "outputs": []
    },
    {
      "cell_type": "code",
      "metadata": {
        "id": "ACyQsC8MOEm1"
      },
      "source": [
        "pred('anushka')"
      ],
      "execution_count": null,
      "outputs": []
    },
    {
      "cell_type": "code",
      "metadata": {
        "id": "-ZfpE4wdOGzU"
      },
      "source": [
        "pred('kajol')"
      ],
      "execution_count": null,
      "outputs": []
    },
    {
      "cell_type": "code",
      "metadata": {
        "id": "zBbGJN-cOKA0"
      },
      "source": [
        "pred('rithvik')"
      ],
      "execution_count": null,
      "outputs": []
    },
    {
      "cell_type": "code",
      "metadata": {
        "id": "G8FqszTFOdWw"
      },
      "source": [
        "pred('AlamKhan')"
      ],
      "execution_count": null,
      "outputs": []
    },
    {
      "cell_type": "code",
      "metadata": {
        "id": "P4nF7eTmOgaC"
      },
      "source": [
        "pred('revathi')"
      ],
      "execution_count": null,
      "outputs": []
    },
    {
      "cell_type": "code",
      "metadata": {
        "id": "iX7k8TTdOkCW"
      },
      "source": [
        "pred('deepika')"
      ],
      "execution_count": null,
      "outputs": []
    },
    {
      "cell_type": "code",
      "metadata": {
        "id": "zxWolUBQOnqh"
      },
      "source": [
        "pred('bunty')"
      ],
      "execution_count": null,
      "outputs": []
    },
    {
      "cell_type": "code",
      "metadata": {
        "id": "RxsGOETqOsHK"
      },
      "source": [
        "pred('pandu')"
      ],
      "execution_count": null,
      "outputs": []
    },
    {
      "cell_type": "code",
      "metadata": {
        "id": "2sfb9nAAOucm"
      },
      "source": [
        ""
      ],
      "execution_count": null,
      "outputs": []
    }
  ]
}